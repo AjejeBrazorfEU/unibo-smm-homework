{
 "cells": [
  {
   "cell_type": "markdown",
   "metadata": {},
   "source": [
    "# Floating Point Arithmetic\n",
    "\n",
    "The Machine epsilon $\\epsilon$ is the distance between $1$ and the next floating point number. Compute $\\epsilon$, which\n",
    "is defined as the smallest floating point number such that it holds:\n",
    "\n",
    "$$fl(1 + \\epsilon) > 1$$"
   ]
  },
  {
   "cell_type": "code",
   "execution_count": 1,
   "metadata": {},
   "outputs": [
    {
     "name": "stdout",
     "output_type": "stream",
     "text": [
      "epsilon =  2.220446049250313e-16\n"
     ]
    }
   ],
   "source": [
    "epsilon = 1\n",
    "while 1 + epsilon > 1:\n",
    "    epsilon = epsilon/2\n",
    "\n",
    "print(\"epsilon = \", epsilon * 2)"
   ]
  },
  {
   "cell_type": "markdown",
   "metadata": {},
   "source": [
    "Let's consider the sequence $a_n = (1 + \\frac{1}{n})^n$. It is well known that:\n",
    "$$ \\lim_{n\\to \\infty} a_n = e $$\n",
    "where $e$ is the Euler costant. Choose different values for $n$, compute $a_n$ and compare it to the real\n",
    "value of the Euler costant. What happens if you choose a large value of $n$? Guess the reason"
   ]
  },
  {
   "cell_type": "code",
   "execution_count": 10,
   "metadata": {},
   "outputs": [
    {
     "name": "stdout",
     "output_type": "stream",
     "text": [
      "[2.71826824 2.71827906 2.71828357 ... 1.         1.         1.        ]\n"
     ]
    },
    {
     "data": {
      "text/plain": [
       "Text(0, 0.5, 'Error')"
      ]
     },
     "execution_count": 10,
     "metadata": {},
     "output_type": "execute_result"
    },
    {
     "data": {
      "image/png": "[encoded data removed]",
      "text/plain": [
       "<Figure size 640x480 with 1 Axes>"
      ]
     },
     "metadata": {},
     "output_type": "display_data"
    }
   ],
   "source": [
    "import numpy as np\n",
    "import matplotlib.pyplot as plt\n",
    "def an(n):\n",
    "    return (1.0 + 1.0/n)**n\n",
    "\n",
    "n = np.arange(1e5,1e16,1e10)\n",
    "plt.figure(1)\n",
    "sequence = an(n)\n",
    "error = np.abs(sequence - np.exp(1))\n",
    "plt.plot(n,error)\n",
    "plt.title(\"Error of the sequence\")\n",
    "plt.xlabel(\"n\")\n",
    "plt.ylabel(\"Error\")"
   ]
  },
  {
   "cell_type": "markdown",
   "metadata": {},
   "source": [
    "**The reason behind the error of $a_n$ with $n > 10^{16}$ it's because $1 + \\frac{1}{n}$ becomes $1$ when $\\frac{1}{n} < \\epsilon$, in fact the error is exactly $e - 1 = 1.718281828459$**"
   ]
  },
  {
   "cell_type": "markdown",
   "metadata": {},
   "source": [
    "Let’s consider the matrices:\n",
    "$$A =  \\begin{pmatrix}4 & 2 \\\\\n",
    "                      1 & 3 \\end{pmatrix}\n",
    "  B =  \\begin{pmatrix}4 & 2 \\\\\n",
    "                      2 & 1 \\end{pmatrix}$$\n",
    "Compute the rank of $A$ and $B$ and their eigenvalues. Are $A$ and $B$ full-rank matrices? Can you infer\n",
    "some relationship between the values of the eigenvalues and the full-rank condition? Please, corroborate\n",
    "your deduction with other examples."
   ]
  },
  {
   "cell_type": "code",
   "execution_count": 13,
   "metadata": {},
   "outputs": [
    {
     "name": "stdout",
     "output_type": "stream",
     "text": [
      "Rank of A =  2\n",
      "Rank of B =  1\n",
      "Eigenvalues of A = [5. 2.]\n",
      "\n",
      "Eigenvectors of A = [[ 0.89442719 -0.70710678]\n",
      " [ 0.4472136   0.70710678]]\n",
      "\n",
      "Eigenvalues of B = [5. 0.]\n",
      "\n",
      "Eigenvectors of B = [[ 0.89442719 -0.4472136 ]\n",
      " [ 0.4472136   0.89442719]]\n",
      "\n",
      "Determinant of A =  10.000000000000002\n",
      "Determinant of B =  0.0\n"
     ]
    }
   ],
   "source": [
    "A = np.array([[4,2],[1,3]])\n",
    "B = np.array([[4,2],[2,1]])\n",
    "\n",
    "rA = np.linalg.matrix_rank(A)\n",
    "rB = np.linalg.matrix_rank(B)\n",
    "print(\"Rank of A = \", rA)\n",
    "print(\"Rank of B = \", rB)\n",
    "\n",
    "eigValA,eigVecA = np.linalg.eig(A)\n",
    "eigValB,eigVecB = np.linalg.eig(B)\n",
    "print(f\"Eigenvalues of A = {eigValA}\\n\")\n",
    "print(f\"Eigenvectors of A = {eigVecA}\\n\")\n",
    "print(f\"Eigenvalues of B = {eigValB}\\n\")\n",
    "print(f\"Eigenvectors of B = {eigVecB}\\n\")\n",
    "\n",
    "detA = np.linalg.det(A)\n",
    "detB = np.linalg.det(B)\n",
    "print(\"Determinant of A = \", detA)\n",
    "print(\"Determinant of B = \", detB)"
   ]
  },
  {
   "cell_type": "markdown",
   "metadata": {},
   "source": [
    "**The matrix B is not full rank because it's rows are not linearly indipendent and in fact his eigenvalues contains the value $0$**"
   ]
  },
  {
   "cell_type": "code",
   "execution_count": 15,
   "metadata": {},
   "outputs": [
    {
     "name": "stdout",
     "output_type": "stream",
     "text": [
      "Rank of A = 2\n",
      "Eigenvalues of A = [ 6.60555128e+00 -1.77352870e-16 -6.05551275e-01]\n",
      "\n",
      "Eigenvectors of A = [[-0.43492973 -0.40824829 -0.3431717 ]\n",
      " [-0.86985947  0.81649658 -0.68634341]\n",
      " [-0.23276733 -0.40824829  0.6412222 ]]\n",
      "\n"
     ]
    }
   ],
   "source": [
    "A = np.array([[1,2,3],[2,4,6],[1,1,1]])\n",
    "eigValA,eigVecA = np.linalg.eig(A)\n",
    "\n",
    "print(f'Rank of A = {np.linalg.matrix_rank(A)}')\n",
    "print(f\"Eigenvalues of A = {eigValA}\\n\")\n",
    "print(f\"Eigenvectors of A = {eigVecA}\\n\")"
   ]
  },
  {
   "cell_type": "markdown",
   "metadata": {},
   "source": [
    "**In this case the matrix $A$ have two linearly dependent rows that are $[1,2,3]$ and $[2,4,6]$ and so it's not full rank and it does have an eigenvalue $= 0$ (the result is not exactly $0$ because of the machine precision).**"
   ]
  },
  {
   "cell_type": "markdown",
   "metadata": {},
   "source": []
  }
 ],
 "metadata": {
  "kernelspec": {
   "display_name": "Python 3",
   "language": "python",
   "name": "python3"
  },
  "language_info": {
   "codemirror_mode": {
    "name": "ipython",
    "version": 3
   },
   "file_extension": ".py",
   "mimetype": "text/x-python",
   "name": "python",
   "nbconvert_exporter": "python",
   "pygments_lexer": "ipython3",
   "version": "3.10.11"
  }
 },
 "nbformat": 4,
 "nbformat_minor": 2
}
