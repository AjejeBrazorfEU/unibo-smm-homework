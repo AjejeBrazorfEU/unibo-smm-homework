{
 "cells": [
  {
   "cell_type": "markdown",
   "metadata": {},
   "source": [
    "**Table of contents**<a id='toc0_'></a>    \n",
    "- [Classification of MNIST Digits with SVD Decomposition.](#toc1_)    \n",
    "  - [Data manipulation and exploration](#toc1_1_)    \n",
    "  - [Computing SVD](#toc1_2_)    \n",
    "  - [Single classification](#toc1_3_)    \n",
    "  - [All couples classification](#toc1_4_)    \n",
    "  - [Triad classification](#toc1_5_)    \n",
    "\n",
    "<!-- vscode-jupyter-toc-config\n",
    "\tnumbering=false\n",
    "\tanchor=true\n",
    "\tflat=false\n",
    "\tminLevel=1\n",
    "\tmaxLevel=6\n",
    "\t/vscode-jupyter-toc-config -->\n",
    "<!-- THIS CELL WILL BE REPLACED ON TOC UPDATE. DO NOT WRITE YOUR TEXT IN THIS CELL -->"
   ]
  },
  {
   "cell_type": "markdown",
   "metadata": {},
   "source": [
    "#  [&#8593;](#toc0_) <a id='toc1_'></a>Classification of MNIST Digits with SVD Decomposition.\n",
    "The task for this exercise is to learn the classification of MNIST digits by using SVD decomposition.\n",
    "Remember that, Given a matrix $X \\in R^{m×n}$ and its SVD decomposition $X = U S V^T$ we can prove that\n",
    "an orthogonal base for the space of the columns is given by the first $p$ columns of the matrix $U$ , where\n",
    "$p = rank(X)$ is equal to the number of non-zero singular values of $A$."
   ]
  },
  {
   "cell_type": "code",
   "execution_count": 1,
   "metadata": {},
   "outputs": [],
   "source": [
    "import numpy as np\n",
    "import matplotlib.pyplot as plt\n",
    "import pandas as pd\n",
    "from tqdm import tqdm\n",
    "VERBOSITY = 0"
   ]
  },
  {
   "cell_type": "markdown",
   "metadata": {},
   "source": [
    "##  [&#8593;](#toc0_) <a id='toc1_1_'></a>Data manipulation and exploration\n",
    "\n",
    "Load the MNIST dataset contained in `./data.csv` with the function `scipy.io.loadmat`.\n",
    "This dataset, which is loaded in the form of a $748 × 42000$ matrix $X$, contains the flattened version\n",
    "of $42000$  $28 × 28$ grayscale handwritten digits."
   ]
  },
  {
   "cell_type": "code",
   "execution_count": 2,
   "metadata": {},
   "outputs": [
    {
     "name": "stdout",
     "output_type": "stream",
     "text": [
      "X.shape = (42000, 784)\n"
     ]
    }
   ],
   "source": [
    "#X = scipy.io.loadmat('./mnist.mat')\n",
    "X = np.array(pd.read_csv('./data.csv'))\n",
    "\n",
    "m,n = 28,28\n",
    "\n",
    "labels = X[:,0]\n",
    "X = X[:,1:]\n",
    "print(f'X.shape = {X.shape}')"
   ]
  },
  {
   "cell_type": "markdown",
   "metadata": {},
   "source": [
    "Visualize a bunch of datapoints of $X$ with the function ``plt.imshow``."
   ]
  },
  {
   "cell_type": "code",
   "execution_count": 3,
   "metadata": {},
   "outputs": [
    {
     "data": {
      "image/png": "[encoded data removed]",
      "text/plain": [
       "<Figure size 1500x1500 with 5 Axes>"
      ]
     },
     "metadata": {},
     "output_type": "display_data"
    }
   ],
   "source": [
    "plt.figure(figsize=(15,15))\n",
    "for i in range(5):\n",
    "    plt.subplot(1,5,i+1)\n",
    "    plt.imshow(X[i].reshape((m,n)), cmap='gray')"
   ]
  },
  {
   "cell_type": "markdown",
   "metadata": {},
   "source": [
    "Extract from $X$ those columns that corresponds to digits $3$ or $4$. Those digits represents the\n",
    "classes $C_1$ and $C_2$ defined above."
   ]
  },
  {
   "cell_type": "code",
   "execution_count": 4,
   "metadata": {},
   "outputs": [],
   "source": [
    "C_1 = X[labels == 3]\n",
    "C_2 = X[labels == 4]\n",
    "\n",
    "s1 = C_1.shape[0]\n",
    "s2 = C_2.shape[0]"
   ]
  },
  {
   "cell_type": "markdown",
   "metadata": {},
   "source": [
    "Split the obtained dataset in training and testing. From now on, we will only consider the training\n",
    "set. The test set will be only used at the end of the exercise to test the algorithm."
   ]
  },
  {
   "cell_type": "code",
   "execution_count": 5,
   "metadata": {},
   "outputs": [],
   "source": [
    "training_perc = 0.67\n",
    "training_num = int(training_perc * len(C_1))\n",
    "\n",
    "C_1_train = C_1[:training_num]\n",
    "C_1_test = C_1[training_num:]\n",
    "C_2_train = C_2[:training_num]\n",
    "C_2_test = C_2[training_num:]\n"
   ]
  },
  {
   "cell_type": "markdown",
   "metadata": {},
   "source": [
    "Create the matrices $X_1$ and $X_2$ defined as:\n",
    "\n",
    "Suppose that $s_1$ is the number of elements in $C_1$, while $s_2$ is the number of elements in $C_2$.\n",
    "\n",
    "$X_1 \\in R^{mn×s_1}$ is the matrix such that its columns are a flatten version of each digit in $C_1$, $X_2 \\in R^{mn×s_2}$\n",
    "is the matrix such that its columns are a flatten version of each digit in C2\n"
   ]
  },
  {
   "cell_type": "code",
   "execution_count": 6,
   "metadata": {},
   "outputs": [
    {
     "name": "stdout",
     "output_type": "stream",
     "text": [
      "(784, 2915)\n",
      "(784, 2915)\n"
     ]
    }
   ],
   "source": [
    "# C_1 and C_2 are already flattened, in fact to plot we do .reshape(n,n)\n",
    "X1 = C_1_train.T\n",
    "X2 = C_2_train.T\n",
    "\n",
    "print(X1.shape)\n",
    "print((m*n, int(s1 * training_perc)))"
   ]
  },
  {
   "cell_type": "markdown",
   "metadata": {},
   "source": [
    "##  [&#8593;](#toc0_) <a id='toc1_2_'></a>Computing SVD\n",
    "\n",
    "Compute the SVD decomposition of $X_1$ and $X_2$ with `np.linalg.svd(matrix, full matrices=False)` and denote the $U$-part of the two decompositions as $U_1$ and $U_2$"
   ]
  },
  {
   "cell_type": "code",
   "execution_count": 43,
   "metadata": {},
   "outputs": [
    {
     "name": "stdout",
     "output_type": "stream",
     "text": [
      "(784, 2915)\n",
      "(784, 784)\n"
     ]
    }
   ],
   "source": [
    "# QUA SENZA FULL_MATRICES=FALSE NON FUNZIONA\n",
    "print(X1.shape)\n",
    "U1, s1, VT1 = np.linalg.svd(X1,full_matrices=False)\n",
    "U2, s2, VT2 = np.linalg.svd(X2,full_matrices=False)\n",
    "print(U1.shape)"
   ]
  },
  {
   "cell_type": "markdown",
   "metadata": {},
   "source": [
    "Take an unknown digit $y$ from the test set, and compute ${y_1}^⊥ = U_1({U_1}^T y)$ and ${y_2}^⊥ = U_2({U_2}^T y)$"
   ]
  },
  {
   "cell_type": "code",
   "execution_count": 45,
   "metadata": {},
   "outputs": [
    {
     "name": "stdout",
     "output_type": "stream",
     "text": [
      "(784,)\n"
     ]
    },
    {
     "data": {
      "image/png": "[encoded data removed]",
      "text/plain": [
       "<Figure size 640x480 with 1 Axes>"
      ]
     },
     "metadata": {},
     "output_type": "display_data"
    }
   ],
   "source": [
    "y = C_2_train[51]\n",
    "y1_proj = U1 @ (U1.T @ y)\n",
    "y2_proj = U2 @ (U2.T @ y)\n",
    "\n",
    "# Plotting y to see the expected result\n",
    "print(y.shape)\n",
    "plt.imshow(y.reshape((m,n)), cmap='gray');\n",
    "plt.show()"
   ]
  },
  {
   "cell_type": "markdown",
   "metadata": {},
   "source": [
    "##  [&#8593;](#toc0_) <a id='toc1_3_'></a>Single classification\n",
    "\n",
    "Compute the distances $d_1 = ||y − {y_1}^⊥ ||_2$ and $d_2 = ||y − {y_2}^⊥ ||_2$ and classify $y$ to $C_1$ if $d_1 < d_2$ and to $C_2$ if $d_2 < d_1$.\n",
    "\n",
    "**Computing the distance between the projection $y^⊥$ and $y$ gives us an estimate of how much the $y$ vector is close to the other vectors in the subspace $U$ we are projecting to. If this distance is lower, it probably means that the $y$ belongs to the same labels of the vectors of the subspace $U$ compared to other subspaces rapresenting other labels.**\n",
    "\n",
    "**If the distance is exactly $0$ it means that $y^⊥ = y$ so $y$ already belongs to the subspace $U$.**"
   ]
  },
  {
   "cell_type": "code",
   "execution_count": 46,
   "metadata": {},
   "outputs": [
    {
     "name": "stdout",
     "output_type": "stream",
     "text": [
      "y is classified as a 4 (C2)\n",
      "d1= 4.202841932395237e-12\n",
      "d2= 3.4940004503744302e-12\n"
     ]
    }
   ],
   "source": [
    "d1 = np.linalg.norm(y-y1_proj,2)\n",
    "d2 = np.linalg.norm(y-y2_proj,2)\n",
    "\n",
    "if d1 < d2:\n",
    "    print(\"y is classified as a 3 (C1)\")\n",
    "else:\n",
    "    print(\"y is classified as a 4 (C2)\")\n",
    "\n",
    "print(f\"d1= {d1}\")\n",
    "print(f\"d2= {d2}\")"
   ]
  },
  {
   "cell_type": "markdown",
   "metadata": {},
   "source": [
    "Repeat the experiment for different values of $y$ in the test set. Compute the misclassification\n",
    "number for this algorithm."
   ]
  },
  {
   "cell_type": "code",
   "execution_count": 47,
   "metadata": {},
   "outputs": [
    {
     "name": "stdout",
     "output_type": "stream",
     "text": [
      "Test set accuracy = 97.34 %\n",
      "Train set accuracy = 98.11 %\n"
     ]
    }
   ],
   "source": [
    "def classify(x,U1,U2,a,b):\n",
    "    x1_proj = U1 @ (U1.T @ x)\n",
    "    x2_proj = U2 @ (U2.T @ x)\n",
    "\n",
    "    d1 = np.linalg.norm(x-x1_proj,2)\n",
    "    d2 = np.linalg.norm(x-x2_proj,2)\n",
    "\n",
    "    if d1 < d2:\n",
    "        return a\n",
    "    else:\n",
    "        return b\n",
    "    \n",
    "correct_test = 0\n",
    "correct_train = 0\n",
    "\n",
    "correct_test += sum([classify(c1,U1,U2,3,4) == 3 for c1 in C_1_test])\n",
    "correct_test += sum([classify(c2,U1,U2,3,4) == 4 for c2 in C_2_test])\n",
    "\n",
    "correct_train += sum([classify(c1,U1,U2,3,4) == 3 for c1 in C_1_train])\n",
    "correct_train += sum([classify(c2,U1,U2,3,4) == 4 for c2 in C_2_train])\n",
    "\n",
    "print(f\"Test set accuracy = {100 * correct_test / (len(C_1_test) + len(C_2_test)):.2f} %\")\n",
    "print(f\"Train set accuracy = {100 * correct_train / (len(C_1_train) + len(C_2_train)):.2f} %\")\n",
    "    "
   ]
  },
  {
   "cell_type": "markdown",
   "metadata": {},
   "source": [
    "**The test set accuracy and the train set accuracy are pretty similar, so in this particular case, we don't see overfitting or underfitting.** "
   ]
  },
  {
   "cell_type": "markdown",
   "metadata": {},
   "source": [
    "##  [&#8593;](#toc0_) <a id='toc1_4_'></a>All couples classification\n",
    "\n",
    "Repeat the experiment for different digits other than 3 or 4. There is a relationship between the\n",
    "visual similarity of the digits and the classification error?"
   ]
  },
  {
   "cell_type": "code",
   "execution_count": 11,
   "metadata": {},
   "outputs": [],
   "source": [
    "# Returns true if X is closer to U1 than U2\n",
    "def classify_matrix(X,U1,U2):\n",
    "    x_1_proj = U1 @ (U1.T @ X)\n",
    "    x_2_proj = U2 @ (U2.T @ X)\n",
    "\n",
    "    d1 = np.linalg.norm(X-x_1_proj,2,axis=0)\n",
    "    d2 = np.linalg.norm(X-x_2_proj,2,axis=0)\n",
    "    \n",
    "    return d1 <= d2\n",
    "\n",
    "training_perc = 0.67\n",
    "SVD_CACHE = {}\n",
    "def correct_ratio_2_number_classification(a,b):\n",
    "    C_1_train = X[labels == a][:int(training_perc * len(X[labels == a]))]\n",
    "    C_2_train = X[labels == b][:int(training_perc * len(X[labels == b]))]\n",
    "\n",
    "    if a in SVD_CACHE:\n",
    "        U1, s1, VT1 = SVD_CACHE[a]\n",
    "    else:\n",
    "        U1, s1, VT1 = np.linalg.svd(C_1_train.T,full_matrices=True)\n",
    "        SVD_CACHE[a] = U1, s1, VT1\n",
    "        \n",
    "    if b in SVD_CACHE:        \n",
    "        U2, s2, VT2 = SVD_CACHE[b]\n",
    "    else:\n",
    "        U2, s2, VT2 = np.linalg.svd(C_2_train.T,full_matrices=True)\n",
    "        SVD_CACHE[b] = U2, s2, VT2    \n",
    "\n",
    "    C_1_test = X[labels == a][int(training_perc * len(X[labels == a])):]\n",
    "    C_2_test = X[labels == b][int(training_perc * len(X[labels == b])):]\n",
    "\n",
    "    guess_1 = classify_matrix(C_1_test.T,U1,U2)\n",
    "    guess_2 = classify_matrix(C_2_test.T,U2,U1)\n",
    "\n",
    "    correct = np.sum(guess_1) + np.sum(guess_2)\n",
    "    \n",
    "    return correct / (len(C_1_test) + len(C_2_test))\n",
    "\n",
    "couple_accuracy = np.zeros((10,10))\n",
    "done = 0\n",
    "\n",
    "for i in (tqdm(range(10)) if VERBOSITY else range(10)):\n",
    "    for j in range(10):\n",
    "        couple_accuracy[i,j] = correct_ratio_2_number_classification(i,j)"
   ]
  },
  {
   "cell_type": "code",
   "execution_count": 14,
   "metadata": {},
   "outputs": [
    {
     "data": {
      "image/png": "[encoded data removed]",
      "text/plain": [
       "<Figure size 640x480 with 2 Axes>"
      ]
     },
     "metadata": {},
     "output_type": "display_data"
    }
   ],
   "source": [
    "plt.imshow(couple_accuracy)\n",
    "plt.gca().invert_yaxis()\n",
    "plt.locator_params(nbins=10)\n",
    "plt.title('Accuracy percentage per couple classification\\nAverage accuracy = {:.3f}'.format(np.mean(couple_accuracy)))\n",
    "plt.colorbar();"
   ]
  },
  {
   "cell_type": "markdown",
   "metadata": {},
   "source": [
    "**This graph clearly shows that similar digits, like $(3,2), (5,0)$ or $(6,0)$, have a lower value of accuracy.**"
   ]
  },
  {
   "cell_type": "markdown",
   "metadata": {},
   "source": [
    "##  [&#8593;](#toc0_) <a id='toc1_5_'></a>Triad classification\n",
    "\n",
    "The extension of this idea to the multiple classification task is trivial. Indeed, if we have more than\n",
    "2 classes (say, $k$ different classes) $C_1, \\dots , C_k$, we just need to repeat the same procedure as before for\n",
    "each matrix $X_1, \\dots , X_k$ to obtain the distances $d_1, \\dots , d_k$. Then, the new digit $y$ will be classified as $C_i$ if $d_i$ is lower that $d_j$ for each $j = 1, \\dots , k$.\n",
    "Repeat the exercise above with a 3-digit example. Comment the differences."
   ]
  },
  {
   "cell_type": "code",
   "execution_count": 13,
   "metadata": {},
   "outputs": [
    {
     "name": "stdout",
     "output_type": "stream",
     "text": [
      "Classification between (2,3,5)\n",
      "Accuracy = 71.78 %\n"
     ]
    }
   ],
   "source": [
    "# a,b,c are the classes of number\n",
    "# x is the number to classify\n",
    "training_perc = 0.67\n",
    "\n",
    "SVD_CACHE = {}\n",
    "# Returns the three U of the SVDs of the three classes\n",
    "def pvd_precomp(a,b,c):\n",
    "    C_1 = X[labels == a][:int(training_perc * len(X[labels == a]))]\n",
    "    C_2 = X[labels == b][:int(training_perc * len(X[labels == b]))]\n",
    "    C_3 = X[labels == c][:int(training_perc * len(X[labels == c]))]\n",
    "\n",
    "    if a in SVD_CACHE:\n",
    "        U1, s1, VT1 = SVD_CACHE[a]\n",
    "    else:\n",
    "        U1, s1, VT1 = np.linalg.svd(C_1.T,full_matrices=True)\n",
    "        SVD_CACHE[a] = U1, s1, VT1\n",
    "    \n",
    "    if b in SVD_CACHE:\n",
    "        U2, s2, VT2 = SVD_CACHE[b]\n",
    "    else:\n",
    "        U2, s2, VT2 = np.linalg.svd(C_2.T,full_matrices=True)\n",
    "        SVD_CACHE[b] = U2, s2, VT2\n",
    "        \n",
    "    if c in SVD_CACHE:\n",
    "        U3, s3, VT3 = SVD_CACHE[c]\n",
    "    else:\n",
    "        U3, s3, VT3 = np.linalg.svd(C_3.T,full_matrices=True)\n",
    "        SVD_CACHE[c] = U3, s3, VT3\n",
    "    \n",
    "    return U1,U2,U3\n",
    "\n",
    "def classify_three(U1,U2,U3,x):\n",
    "    y1_proj = U1 @ (U1.T @ x)\n",
    "    y2_proj = U2 @ (U2.T @ x)\n",
    "    y3_proj = U3 @ (U3.T @ x)\n",
    "\n",
    "    d1 = np.linalg.norm(x-y1_proj,2)\n",
    "    d2 = np.linalg.norm(x-y2_proj,2)\n",
    "    d3 = np.linalg.norm(x-y3_proj,2)\n",
    "\n",
    "    m = min(d1,d2,d3)\n",
    "\n",
    "    if m == d1:\n",
    "        return a\n",
    "    elif m == d2:\n",
    "        return b\n",
    "    elif m == d3:\n",
    "        return c\n",
    "\n",
    "a,b,c = 2,3,5\n",
    "test_a = X[labels == a][int(training_perc * len(X[labels == a])):]\n",
    "test_b = X[labels == b][int(training_perc * len(X[labels == b])):]\n",
    "test_c = X[labels == c][int(training_perc * len(X[labels == c])):]\n",
    "\n",
    "U1,U2,U3 = pvd_precomp(a,b,c)\n",
    "\n",
    "correct = 0\n",
    "correct += sum([classify_three(U1,U2,U3,c1) == a for c1 in test_a])\n",
    "correct += sum([classify_three(U1,U2,U3,c2) == b for c2 in test_b])\n",
    "correct += sum([classify_three(U1,U2,U3,c3) == c for c3 in test_c])\n",
    "\n",
    "print(f\"Classification between ({a},{b},{c})\\nAccuracy = {100 * correct / (len(test_a) + len(test_b) + len(test_c)):.2f} %\")"
   ]
  },
  {
   "cell_type": "markdown",
   "metadata": {},
   "source": [
    "**As we can see from the example above, if we choose 3 similar digits like $(2,3,5)$ the accuracy drops to $ 71.78 \\% $**"
   ]
  }
 ],
 "metadata": {
  "kernelspec": {
   "display_name": "Python 3",
   "language": "python",
   "name": "python3"
  },
  "language_info": {
   "codemirror_mode": {
    "name": "ipython",
    "version": 3
   },
   "file_extension": ".py",
   "mimetype": "text/x-python",
   "name": "python",
   "nbconvert_exporter": "python",
   "pygments_lexer": "ipython3",
   "version": "3.10.11"
  },
  "orig_nbformat": 4
 },
 "nbformat": 4,
 "nbformat_minor": 2
}
